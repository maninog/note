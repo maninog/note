{
 "cells": [
  {
   "cell_type": "markdown",
   "metadata": {},
   "source": [
    "# 講座の概要  \n",
    "  \n",
    "### ◆AutoVIML(0.1.683)についてご紹介  \n",
    "\n",
    "## ---------------------------------------------------------  \n",
    "\n",
    "### ◆コースの流れ\n",
    "インストール ⇒ Arguments ⇒ AutoVIMLの使用方法 ⇒ 課題4つ ⇒ SIGNATEに参加\n",
    "\n",
    "## ---------------------------------------------------------  \n",
    "\n",
    "### ◆目的\n",
    "AutoVIMLの使用ができるようになる。  \n",
    "Argumentsのチューニングによりモデルの予測精度を改良できるようになる。\n",
    "  \n",
    "## ---------------------------------------------------------  \n",
    "    \n",
    "### ◆本講座の対象者  \n",
    "Pythonのjupyter notebookを用いてデータセットの読込から前処理、予測モデル作成、モデルの評価まで一連の作業を経験している方  \n",
    "AutoVIMLに関心がある方"
   ]
  },
  {
   "cell_type": "code",
   "execution_count": null,
   "metadata": {},
   "outputs": [],
   "source": []
  },
  {
   "cell_type": "markdown",
   "metadata": {},
   "source": [
    "## -----------------------------------------------------------------------------------------------------"
   ]
  },
  {
   "cell_type": "markdown",
   "metadata": {},
   "source": [
    "# AutoVIMLとは  \n",
    "\n",
    "Link：https://github.com/AutoViML/Auto_ViML"
   ]
  },
  {
   "cell_type": "code",
   "execution_count": null,
   "metadata": {},
   "outputs": [],
   "source": []
  },
  {
   "cell_type": "markdown",
   "metadata": {},
   "source": [
    "## -----------------------------------------------------------------------------------------------------"
   ]
  },
  {
   "cell_type": "markdown",
   "metadata": {},
   "source": [
    "# AutoVIMLのインストール"
   ]
  },
  {
   "cell_type": "markdown",
   "metadata": {},
   "source": [
    "◆必須  \n",
    "pip install autoviml"
   ]
  },
  {
   "cell_type": "code",
   "execution_count": null,
   "metadata": {},
   "outputs": [],
   "source": []
  },
  {
   "cell_type": "markdown",
   "metadata": {},
   "source": [
    "## -----------------------------------------------------------------------------------------------------"
   ]
  },
  {
   "cell_type": "markdown",
   "metadata": {},
   "source": [
    "# データセットの取得"
   ]
  },
  {
   "cell_type": "code",
   "execution_count": null,
   "metadata": {},
   "outputs": [],
   "source": []
  },
  {
   "cell_type": "markdown",
   "metadata": {},
   "source": [
    "# Argumentsの学習 "
   ]
  },
  {
   "cell_type": "markdown",
   "metadata": {},
   "source": [
    "train：学習用データ（DataFrame）を指定。目的変数（target）は入れたままでOK。  \n",
    "target：目的変数を指定。例）\"tip\"  \n",
    "test:テスト用データを指定。テスト用 ⇒ 目的変数必要なし、検証用 ⇒ どっちでもOK。  \n",
    "sample_submission：\"\" ⇒ 空白でOK。JupyterNotebookと同じ階層に予測結果が格納。  \n",
    "hyper_param：\"RS\" ⇒ RSでOK。例）\"GS\"と\"RS\"のみ  \n",
    "feature_reduction：TrueでもFalseどちらでも可。  \n",
    "scoring_parameter：\"\" ⇒ 空白でOK。例）\"f1\"、\"balanced_accuracy\"や'neg_mean_absolute_error'もOK。  \n",
    "Boosting Flag：None/False/True/CatBoostのどれかを状況に応じて選択。  \n",
    "KMeans_Featurizer：True/Falseのどちらかを状況に応じて選択。  \n",
    "Add_Poly：0/1/2/3のどれかを状況に応じて選択。  \n",
    "Binning_Flag：True/Falseのどちらかを状況に応じて選択。  \n",
    "Stacking_Flag：True/Falseのどちらかを状況に応じて選択。  \n",
    "Imbalanced_Flag：True/Falseのどちらかを状況に応じて選択。  \n",
    "verbose：0/1/2のどれかを選択。詳細な結果を出力するため2を推奨。"
   ]
  },
  {
   "cell_type": "markdown",
   "metadata": {},
   "source": [
    "参考サイト：https://scikit-learn.org/stable/modules/model_evaluation.html"
   ]
  },
  {
   "cell_type": "code",
   "execution_count": null,
   "metadata": {},
   "outputs": [],
   "source": []
  },
  {
   "cell_type": "markdown",
   "metadata": {},
   "source": [
    "# Auto_VIMLの実行"
   ]
  },
  {
   "cell_type": "code",
   "execution_count": null,
   "metadata": {},
   "outputs": [],
   "source": []
  },
  {
   "cell_type": "markdown",
   "metadata": {},
   "source": [
    "# Drill  "
   ]
  },
  {
   "cell_type": "markdown",
   "metadata": {},
   "source": [
    "#### 課題1:hyper_param='GS'に変更"
   ]
  },
  {
   "cell_type": "code",
   "execution_count": null,
   "metadata": {},
   "outputs": [],
   "source": []
  },
  {
   "cell_type": "markdown",
   "metadata": {},
   "source": [
    "#### 課題2:feature_reduction=Falseに変更"
   ]
  },
  {
   "cell_type": "code",
   "execution_count": null,
   "metadata": {},
   "outputs": [],
   "source": []
  },
  {
   "cell_type": "markdown",
   "metadata": {},
   "source": [
    "#### 課題3:scoring_parameter=\"neg_mean_squared_error\"に変更"
   ]
  },
  {
   "cell_type": "code",
   "execution_count": null,
   "metadata": {},
   "outputs": [],
   "source": []
  },
  {
   "cell_type": "markdown",
   "metadata": {},
   "source": [
    "#### 課題4:Boosting_Flag=”CatBoost”に変更"
   ]
  },
  {
   "cell_type": "code",
   "execution_count": null,
   "metadata": {},
   "outputs": [],
   "source": []
  },
  {
   "cell_type": "markdown",
   "metadata": {},
   "source": [
    "#### 課題5:KMeans_Featurizer=Trueに変更"
   ]
  },
  {
   "cell_type": "code",
   "execution_count": null,
   "metadata": {},
   "outputs": [],
   "source": []
  },
  {
   "cell_type": "markdown",
   "metadata": {},
   "source": [
    "#### 課題6:Add_Poly=3に変更"
   ]
  },
  {
   "cell_type": "code",
   "execution_count": null,
   "metadata": {},
   "outputs": [],
   "source": []
  },
  {
   "cell_type": "markdown",
   "metadata": {},
   "source": [
    "# Test"
   ]
  },
  {
   "cell_type": "markdown",
   "metadata": {},
   "source": [
    "(課題)  \n",
    "Seabornの中にあるDiamondsのデータセットを使用し、Auto_VIMLより回帰モデルを作成。  \n",
    "取得した予測値と実測値の誤差をRMSEより算出。"
   ]
  },
  {
   "cell_type": "code",
   "execution_count": null,
   "metadata": {},
   "outputs": [],
   "source": []
  },
  {
   "cell_type": "markdown",
   "metadata": {},
   "source": [
    "# Answer"
   ]
  },
  {
   "cell_type": "markdown",
   "metadata": {},
   "source": [
    "参考サイト：https://www.google.com/search?q=%E3%83%80%E3%82%A4%E3%83%A4%E3%83%A2%E3%83%B3%E3%83%89+%E3%83%86%E3%83%BC%E3%83%96%E3%83%AB&rlz=1C1QABZ_jaJP921JP937&sxsrf=AOaemvKfyrVtMC6HmX48XRNZrn7rgn_3EA:1632646588313&source=lnms&tbm=isch&sa=X&sqi=2&ved=2ahUKEwjX_sG_opzzAhVuDjQIHUV4AwIQ_AUoAnoECAEQBA&biw=1024&bih=996&dpr=1.25"
   ]
  },
  {
   "cell_type": "code",
   "execution_count": null,
   "metadata": {},
   "outputs": [],
   "source": []
  },
  {
   "cell_type": "markdown",
   "metadata": {},
   "source": [
    "# データセットの取得"
   ]
  },
  {
   "cell_type": "code",
   "execution_count": null,
   "metadata": {},
   "outputs": [],
   "source": []
  },
  {
   "cell_type": "markdown",
   "metadata": {},
   "source": [
    "# 二値分類モデルの作成"
   ]
  },
  {
   "cell_type": "code",
   "execution_count": null,
   "metadata": {},
   "outputs": [],
   "source": []
  },
  {
   "cell_type": "markdown",
   "metadata": {},
   "source": [
    "# Test"
   ]
  },
  {
   "cell_type": "markdown",
   "metadata": {},
   "source": [
    "(課題)  \n",
    "Scikit-Learnの中にあるIrisデータセットを使用し、Auto_VIMLより分類モデルの作成。  \n",
    "混同行列の出力。  "
   ]
  },
  {
   "cell_type": "code",
   "execution_count": null,
   "metadata": {},
   "outputs": [],
   "source": []
  },
  {
   "cell_type": "markdown",
   "metadata": {},
   "source": [
    "# Answer"
   ]
  },
  {
   "cell_type": "code",
   "execution_count": null,
   "metadata": {},
   "outputs": [],
   "source": []
  },
  {
   "cell_type": "markdown",
   "metadata": {},
   "source": [
    "# コンペの参加"
   ]
  },
  {
   "cell_type": "markdown",
   "metadata": {},
   "source": [
    "公式ページ：https://signate.jp/"
   ]
  },
  {
   "cell_type": "code",
   "execution_count": null,
   "metadata": {},
   "outputs": [],
   "source": []
  },
  {
   "cell_type": "markdown",
   "metadata": {},
   "source": [
    "# データの取得"
   ]
  },
  {
   "cell_type": "markdown",
   "metadata": {},
   "source": [
    "公式ページ：https://signate.jp/competitions/113"
   ]
  },
  {
   "cell_type": "code",
   "execution_count": null,
   "metadata": {},
   "outputs": [],
   "source": []
  },
  {
   "cell_type": "markdown",
   "metadata": {},
   "source": [
    "# モデルの作成と予測結果の提出"
   ]
  },
  {
   "cell_type": "code",
   "execution_count": null,
   "metadata": {},
   "outputs": [],
   "source": []
  },
  {
   "cell_type": "markdown",
   "metadata": {},
   "source": [
    "# データの取得"
   ]
  },
  {
   "cell_type": "markdown",
   "metadata": {},
   "source": [
    "公式ページ：https://signate.jp/competitions/105"
   ]
  },
  {
   "cell_type": "code",
   "execution_count": null,
   "metadata": {},
   "outputs": [],
   "source": []
  },
  {
   "cell_type": "markdown",
   "metadata": {},
   "source": [
    "# モデルの作成と予測結果の提出"
   ]
  },
  {
   "cell_type": "code",
   "execution_count": null,
   "metadata": {},
   "outputs": [],
   "source": []
  }
 ],
 "metadata": {
  "kernelspec": {
   "display_name": "Python 3",
   "language": "python",
   "name": "python3"
  },
  "language_info": {
   "codemirror_mode": {
    "name": "ipython",
    "version": 3
   },
   "file_extension": ".py",
   "mimetype": "text/x-python",
   "name": "python",
   "nbconvert_exporter": "python",
   "pygments_lexer": "ipython3",
   "version": "3.8.5"
  }
 },
 "nbformat": 4,
 "nbformat_minor": 5
}
